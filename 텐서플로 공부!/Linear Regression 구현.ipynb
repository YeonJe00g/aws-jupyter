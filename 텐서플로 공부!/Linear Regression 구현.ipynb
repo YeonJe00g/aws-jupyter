{
 "cells": [
  {
   "cell_type": "code",
   "execution_count": null,
   "metadata": {},
   "outputs": [],
   "source": [
    " import tensorflow.compat.v1 as tf\n",
    "tf.disable_v2_behavior()\n",
    "\n",
    "xData = [1,2,3,4,5,6,7]\n",
    "yData = [25000, 55000, 75000, 110000, 128000, 155000, 180000]\n",
    "\n",
    "#W는 Weight(가중치). -100에서 100사이의 랜덤값  b는 bias y절편\n",
    "W = tf.Variable(tf.random_uniform([1], -100, 100))\n",
    "b = tf.Variable(tf.random_uniform([1], -100, 100))\n",
    "\n",
    "#placeholder라는 하나의 틀\n",
    "X = tf.placeholder(tf.float32)\n",
    "Y = tf.placeholder(tf.float32)\n",
    "\n",
    "#가설식\n",
    "H = W*X + b\n",
    "\n",
    "#비용함수 코스트는 (이상치-실제값)의 제곱의 평균\n",
    "cost = tf.reduce_mean(tf.square(H-Y))\n",
    "\n",
    "#경사 하강 알고리즘에서 한번에 얼만큼 점프할건지. step의 크기.\n",
    "a = tf.Variable(0.01)\n",
    "optimizer = tf.train.GradientDescentOptimizer(a)\n",
    "\n",
    "#비용함수를 가장 적게 만드는 방법으로 학습.\n",
    "train = optimizer.minimize(cost)\n",
    "\n",
    "#변수 초기화\n",
    "init = tf.global_variables_initializer()\n",
    "\n",
    "#세션\n",
    "sess = tf.Session()\n",
    "sess.run(init)\n",
    "\n",
    "#여기가 실제로 학습이 일어나는 부분\n",
    "for i in range(5001):\n",
    "    sess.run(train, feed_dict = {X : xData, Y : yData})\n",
    "    if i & 500 ==0:\n",
    "        print(i, sess.run(cost, feed_dict = {X:xData, Y:yData}), sess.run(W))\n",
    "print (sess.run(H, feed_dict={X : [8]}))"
   ]
  }
 ],
 "metadata": {
  "kernelspec": {
   "display_name": "Python 3",
   "language": "python",
   "name": "python3"
  },
  "language_info": {
   "codemirror_mode": {
    "name": "ipython",
    "version": 3
   },
   "file_extension": ".py",
   "mimetype": "text/x-python",
   "name": "python",
   "nbconvert_exporter": "python",
   "pygments_lexer": "ipython3",
   "version": "3.5.2"
  }
 },
 "nbformat": 4,
 "nbformat_minor": 4
}
