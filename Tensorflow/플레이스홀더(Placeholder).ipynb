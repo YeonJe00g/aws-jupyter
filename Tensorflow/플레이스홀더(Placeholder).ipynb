{
 "cells": [
  {
   "cell_type": "code",
   "execution_count": 22,
   "metadata": {},
   "outputs": [],
   "source": [
    "import tensorflow as tf"
   ]
  },
  {
   "cell_type": "code",
   "execution_count": 23,
   "metadata": {},
   "outputs": [],
   "source": [
    "#플레이서 홀더는 다른 텐서(Tensor)를 할당하기 위해 사용한다.\n",
    "#실제로 값을 할당하는 과정을 피딩(feeding)이라 한다. \n",
    "#쉽게 말해 플레이스 홀더는 학습 데이터를 포함하는 변수이다.\n",
    "\n",
    "#여러개의 데이터에 대해 각각 5와 더한 값을 반환하는 프로그램\n",
    "# y = x+5\n",
    "#입력 x가 플레이스 홀더가 된다\n",
    "#tf.placeholder(dtype,shape,name)"
   ]
  },
  {
   "cell_type": "code",
   "execution_count": 38,
   "metadata": {},
   "outputs": [
    {
     "data": {
      "text/plain": [
       "array([ 6.,  7.,  8.,  9., 10.], dtype=float32)"
      ]
     },
     "execution_count": 38,
     "metadata": {},
     "output_type": "execute_result"
    }
   ],
   "source": [
    "\n",
    "input = [1,2,3,4,5]\n",
    "with tf.compat.v1.Session() as sess:\n",
    "    x = tf.placeholder(dtype=tf.float32)\n",
    "    y=x+5\n",
    "    sess = tf.Session()\n",
    "#x의 값으로 배열 int를 넣어라 \n",
    "sess.run(y, feed_dict={x:input})\n"
   ]
  },
  {
   "cell_type": "code",
   "execution_count": 45,
   "metadata": {},
   "outputs": [],
   "source": [
    "mathScore = [85,99,84,97,92]\n",
    "englishScore = [59,80,84,68,77]\n",
    "\n",
    "with tf.compat.v1.Session() as sess:\n",
    "    a=tf.placeholder(tf.float32)\n",
    "    b=tf.placeholder(tf.float32)\n",
    "    y=(a+b)/2\n",
    "    "
   ]
  },
  {
   "cell_type": "code",
   "execution_count": 46,
   "metadata": {},
   "outputs": [
    {
     "data": {
      "text/plain": [
       "array([72. , 89.5, 84. , 82.5, 84.5], dtype=float32)"
      ]
     },
     "execution_count": 46,
     "metadata": {},
     "output_type": "execute_result"
    }
   ],
   "source": [
    "sess = tf.Session()\n",
    "sess.run(y, feed_dict = {a:mathScore, b:englishScore})"
   ]
  },
  {
   "cell_type": "code",
   "execution_count": null,
   "metadata": {},
   "outputs": [],
   "source": []
  }
 ],
 "metadata": {
  "kernelspec": {
   "display_name": "Python 3",
   "language": "python",
   "name": "python3"
  },
  "language_info": {
   "codemirror_mode": {
    "name": "ipython",
    "version": 3
   },
   "file_extension": ".py",
   "mimetype": "text/x-python",
   "name": "python",
   "nbconvert_exporter": "python",
   "pygments_lexer": "ipython3",
   "version": "3.5.2"
  }
 },
 "nbformat": 4,
 "nbformat_minor": 4
}
