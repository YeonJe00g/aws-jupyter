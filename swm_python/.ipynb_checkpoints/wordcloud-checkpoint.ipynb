{
 "cells": [
  {
   "cell_type": "code",
   "execution_count": 5,
   "metadata": {},
   "outputs": [
    {
     "name": "stdout",
     "output_type": "stream",
     "text": [
      "\u001b[33mWARNING: The directory '/home/ubuntu/.cache/pip' or its parent directory is not owned or is not writable by the current user. The cache has been disabled. Check the permissions and owner of that directory. If executing pip with sudo, you may want sudo's -H flag.\u001b[0m\n",
      "Collecting wordcloud\n",
      "  Downloading wordcloud-1.7.0-cp35-cp35m-manylinux1_x86_64.whl (360 kB)\n",
      "\u001b[K     |████████████████████████████████| 360 kB 1.1 MB/s eta 0:00:01\n",
      "\u001b[?25hRequirement already satisfied: numpy>=1.6.1 in /usr/local/lib/python3.5/dist-packages (from wordcloud) (1.18.4)\n",
      "Collecting matplotlib\n",
      "  Downloading matplotlib-3.0.3-cp35-cp35m-manylinux1_x86_64.whl (13.0 MB)\n",
      "\u001b[K     |████████████████████████████████| 13.0 MB 20.5 MB/s eta 0:00:01   |████▌                           | 1.8 MB 3.3 MB/s eta 0:00:04     |████████▋                       | 3.5 MB 3.3 MB/s eta 0:00:03     |██████████████████▏             | 7.4 MB 3.3 MB/s eta 0:00:02     |████████████████████▍           | 8.3 MB 3.3 MB/s eta 0:00:02     |██████████████████████▋         | 9.2 MB 3.3 MB/s eta 0:00:02     |██████████████████████████████▊ | 12.5 MB 20.5 MB/s eta 0:00:01\n",
      "\u001b[?25hCollecting pillow\n",
      "  Downloading Pillow-7.1.2-cp35-cp35m-manylinux1_x86_64.whl (2.1 MB)\n",
      "\u001b[K     |████████████████████████████████| 2.1 MB 20.0 MB/s eta 0:00:01\n",
      "\u001b[?25hCollecting kiwisolver>=1.0.1\n",
      "  Downloading kiwisolver-1.1.0-cp35-cp35m-manylinux1_x86_64.whl (90 kB)\n",
      "\u001b[K     |████████████████████████████████| 90 kB 45.7 MB/s eta 0:00:01\n",
      "\u001b[?25hRequirement already satisfied: pyparsing!=2.0.4,!=2.1.2,!=2.1.6,>=2.0.1 in /usr/local/lib/python3.5/dist-packages (from matplotlib->wordcloud) (2.4.7)\n",
      "Collecting cycler>=0.10\n",
      "  Downloading cycler-0.10.0-py2.py3-none-any.whl (6.5 kB)\n",
      "Requirement already satisfied: python-dateutil>=2.1 in /usr/local/lib/python3.5/dist-packages (from matplotlib->wordcloud) (2.8.1)\n",
      "Requirement already satisfied: setuptools in /usr/local/lib/python3.5/dist-packages (from kiwisolver>=1.0.1->matplotlib->wordcloud) (46.4.0)\n",
      "Requirement already satisfied: six in /usr/local/lib/python3.5/dist-packages (from cycler>=0.10->matplotlib->wordcloud) (1.14.0)\n",
      "Installing collected packages: kiwisolver, cycler, matplotlib, pillow, wordcloud\n",
      "Successfully installed cycler-0.10.0 kiwisolver-1.1.0 matplotlib-3.0.3 pillow-7.1.2 wordcloud-1.7.0\n",
      "Note: you may need to restart the kernel to use updated packages.\n"
     ]
    }
   ],
   "source": [
    "pip install wordcloud"
   ]
  },
  {
   "cell_type": "code",
   "execution_count": 16,
   "metadata": {
    "scrolled": true
   },
   "outputs": [
    {
     "ename": "OSError",
     "evalue": "cannot open resource",
     "output_type": "error",
     "traceback": [
      "\u001b[0;31m---------------------------------------------------------------------------\u001b[0m",
      "\u001b[0;31mOSError\u001b[0m                                   Traceback (most recent call last)",
      "\u001b[0;32m<ipython-input-16-4edd6eb9a5cd>\u001b[0m in \u001b[0;36m<module>\u001b[0;34m\u001b[0m\n\u001b[1;32m     42\u001b[0m \u001b[0;34m\u001b[0m\u001b[0m\n\u001b[1;32m     43\u001b[0m \"\"\"\n\u001b[0;32m---> 44\u001b[0;31m \u001b[0mwordcloud\u001b[0m \u001b[0;34m=\u001b[0m \u001b[0mwordcloud\u001b[0m\u001b[0;34m.\u001b[0m\u001b[0mgenerate\u001b[0m\u001b[0;34m(\u001b[0m\u001b[0mnews\u001b[0m\u001b[0;34m)\u001b[0m\u001b[0;34m\u001b[0m\u001b[0m\n\u001b[0m\u001b[1;32m     45\u001b[0m \u001b[0mfig\u001b[0m \u001b[0;34m=\u001b[0m \u001b[0mplt\u001b[0m\u001b[0;34m.\u001b[0m\u001b[0mfigure\u001b[0m\u001b[0;34m(\u001b[0m\u001b[0mfigsize\u001b[0m\u001b[0;34m=\u001b[0m\u001b[0;34m(\u001b[0m\u001b[0;36m6\u001b[0m\u001b[0;34m,\u001b[0m\u001b[0;36m6\u001b[0m\u001b[0;34m)\u001b[0m\u001b[0;34m)\u001b[0m\u001b[0;34m\u001b[0m\u001b[0m\n\u001b[1;32m     46\u001b[0m \u001b[0mplt\u001b[0m\u001b[0;34m.\u001b[0m\u001b[0mimshow\u001b[0m\u001b[0;34m(\u001b[0m\u001b[0mwordcloud\u001b[0m\u001b[0;34m)\u001b[0m\u001b[0;34m\u001b[0m\u001b[0m\n",
      "\u001b[0;32m/usr/local/lib/python3.5/dist-packages/wordcloud/wordcloud.py\u001b[0m in \u001b[0;36mgenerate\u001b[0;34m(self, text)\u001b[0m\n\u001b[1;32m    629\u001b[0m         \u001b[0mself\u001b[0m\u001b[0;34m\u001b[0m\u001b[0m\n\u001b[1;32m    630\u001b[0m         \"\"\"\n\u001b[0;32m--> 631\u001b[0;31m         \u001b[0;32mreturn\u001b[0m \u001b[0mself\u001b[0m\u001b[0;34m.\u001b[0m\u001b[0mgenerate_from_text\u001b[0m\u001b[0;34m(\u001b[0m\u001b[0mtext\u001b[0m\u001b[0;34m)\u001b[0m\u001b[0;34m\u001b[0m\u001b[0m\n\u001b[0m\u001b[1;32m    632\u001b[0m \u001b[0;34m\u001b[0m\u001b[0m\n\u001b[1;32m    633\u001b[0m     \u001b[0;32mdef\u001b[0m \u001b[0m_check_generated\u001b[0m\u001b[0;34m(\u001b[0m\u001b[0mself\u001b[0m\u001b[0;34m)\u001b[0m\u001b[0;34m:\u001b[0m\u001b[0;34m\u001b[0m\u001b[0m\n",
      "\u001b[0;32m/usr/local/lib/python3.5/dist-packages/wordcloud/wordcloud.py\u001b[0m in \u001b[0;36mgenerate_from_text\u001b[0;34m(self, text)\u001b[0m\n\u001b[1;32m    611\u001b[0m         \"\"\"\n\u001b[1;32m    612\u001b[0m         \u001b[0mwords\u001b[0m \u001b[0;34m=\u001b[0m \u001b[0mself\u001b[0m\u001b[0;34m.\u001b[0m\u001b[0mprocess_text\u001b[0m\u001b[0;34m(\u001b[0m\u001b[0mtext\u001b[0m\u001b[0;34m)\u001b[0m\u001b[0;34m\u001b[0m\u001b[0m\n\u001b[0;32m--> 613\u001b[0;31m         \u001b[0mself\u001b[0m\u001b[0;34m.\u001b[0m\u001b[0mgenerate_from_frequencies\u001b[0m\u001b[0;34m(\u001b[0m\u001b[0mwords\u001b[0m\u001b[0;34m)\u001b[0m\u001b[0;34m\u001b[0m\u001b[0m\n\u001b[0m\u001b[1;32m    614\u001b[0m         \u001b[0;32mreturn\u001b[0m \u001b[0mself\u001b[0m\u001b[0;34m\u001b[0m\u001b[0m\n\u001b[1;32m    615\u001b[0m \u001b[0;34m\u001b[0m\u001b[0m\n",
      "\u001b[0;32m/usr/local/lib/python3.5/dist-packages/wordcloud/wordcloud.py\u001b[0m in \u001b[0;36mgenerate_from_frequencies\u001b[0;34m(self, frequencies, max_font_size)\u001b[0m\n\u001b[1;32m    445\u001b[0m             \u001b[0;32melse\u001b[0m\u001b[0;34m:\u001b[0m\u001b[0;34m\u001b[0m\u001b[0m\n\u001b[1;32m    446\u001b[0m                 self.generate_from_frequencies(dict(frequencies[:2]),\n\u001b[0;32m--> 447\u001b[0;31m                                                max_font_size=self.height)\n\u001b[0m\u001b[1;32m    448\u001b[0m                 \u001b[0;31m# find font sizes\u001b[0m\u001b[0;34m\u001b[0m\u001b[0;34m\u001b[0m\u001b[0m\n\u001b[1;32m    449\u001b[0m                 \u001b[0msizes\u001b[0m \u001b[0;34m=\u001b[0m \u001b[0;34m[\u001b[0m\u001b[0mx\u001b[0m\u001b[0;34m[\u001b[0m\u001b[0;36m1\u001b[0m\u001b[0;34m]\u001b[0m \u001b[0;32mfor\u001b[0m \u001b[0mx\u001b[0m \u001b[0;32min\u001b[0m \u001b[0mself\u001b[0m\u001b[0;34m.\u001b[0m\u001b[0mlayout_\u001b[0m\u001b[0;34m]\u001b[0m\u001b[0;34m\u001b[0m\u001b[0m\n",
      "\u001b[0;32m/usr/local/lib/python3.5/dist-packages/wordcloud/wordcloud.py\u001b[0m in \u001b[0;36mgenerate_from_frequencies\u001b[0;34m(self, frequencies, max_font_size)\u001b[0m\n\u001b[1;32m    494\u001b[0m             \u001b[0;32mwhile\u001b[0m \u001b[0;32mTrue\u001b[0m\u001b[0;34m:\u001b[0m\u001b[0;34m\u001b[0m\u001b[0m\n\u001b[1;32m    495\u001b[0m                 \u001b[0;31m# try to find a position\u001b[0m\u001b[0;34m\u001b[0m\u001b[0;34m\u001b[0m\u001b[0m\n\u001b[0;32m--> 496\u001b[0;31m                 \u001b[0mfont\u001b[0m \u001b[0;34m=\u001b[0m \u001b[0mImageFont\u001b[0m\u001b[0;34m.\u001b[0m\u001b[0mtruetype\u001b[0m\u001b[0;34m(\u001b[0m\u001b[0mself\u001b[0m\u001b[0;34m.\u001b[0m\u001b[0mfont_path\u001b[0m\u001b[0;34m,\u001b[0m \u001b[0mfont_size\u001b[0m\u001b[0;34m)\u001b[0m\u001b[0;34m\u001b[0m\u001b[0m\n\u001b[0m\u001b[1;32m    497\u001b[0m                 \u001b[0;31m# transpose font optionally\u001b[0m\u001b[0;34m\u001b[0m\u001b[0;34m\u001b[0m\u001b[0m\n\u001b[1;32m    498\u001b[0m                 transposed_font = ImageFont.TransposedFont(\n",
      "\u001b[0;32m/usr/local/lib/python3.5/dist-packages/PIL/ImageFont.py\u001b[0m in \u001b[0;36mtruetype\u001b[0;34m(font, size, index, encoding, layout_engine)\u001b[0m\n\u001b[1;32m    646\u001b[0m \u001b[0;34m\u001b[0m\u001b[0m\n\u001b[1;32m    647\u001b[0m     \u001b[0;32mtry\u001b[0m\u001b[0;34m:\u001b[0m\u001b[0;34m\u001b[0m\u001b[0m\n\u001b[0;32m--> 648\u001b[0;31m         \u001b[0;32mreturn\u001b[0m \u001b[0mfreetype\u001b[0m\u001b[0;34m(\u001b[0m\u001b[0mfont\u001b[0m\u001b[0;34m)\u001b[0m\u001b[0;34m\u001b[0m\u001b[0m\n\u001b[0m\u001b[1;32m    649\u001b[0m     \u001b[0;32mexcept\u001b[0m \u001b[0mOSError\u001b[0m\u001b[0;34m:\u001b[0m\u001b[0;34m\u001b[0m\u001b[0m\n\u001b[1;32m    650\u001b[0m         \u001b[0;32mif\u001b[0m \u001b[0;32mnot\u001b[0m \u001b[0misPath\u001b[0m\u001b[0;34m(\u001b[0m\u001b[0mfont\u001b[0m\u001b[0;34m)\u001b[0m\u001b[0;34m:\u001b[0m\u001b[0;34m\u001b[0m\u001b[0m\n",
      "\u001b[0;32m/usr/local/lib/python3.5/dist-packages/PIL/ImageFont.py\u001b[0m in \u001b[0;36mfreetype\u001b[0;34m(font)\u001b[0m\n\u001b[1;32m    643\u001b[0m \u001b[0;34m\u001b[0m\u001b[0m\n\u001b[1;32m    644\u001b[0m     \u001b[0;32mdef\u001b[0m \u001b[0mfreetype\u001b[0m\u001b[0;34m(\u001b[0m\u001b[0mfont\u001b[0m\u001b[0;34m)\u001b[0m\u001b[0;34m:\u001b[0m\u001b[0;34m\u001b[0m\u001b[0m\n\u001b[0;32m--> 645\u001b[0;31m         \u001b[0;32mreturn\u001b[0m \u001b[0mFreeTypeFont\u001b[0m\u001b[0;34m(\u001b[0m\u001b[0mfont\u001b[0m\u001b[0;34m,\u001b[0m \u001b[0msize\u001b[0m\u001b[0;34m,\u001b[0m \u001b[0mindex\u001b[0m\u001b[0;34m,\u001b[0m \u001b[0mencoding\u001b[0m\u001b[0;34m,\u001b[0m \u001b[0mlayout_engine\u001b[0m\u001b[0;34m)\u001b[0m\u001b[0;34m\u001b[0m\u001b[0m\n\u001b[0m\u001b[1;32m    646\u001b[0m \u001b[0;34m\u001b[0m\u001b[0m\n\u001b[1;32m    647\u001b[0m     \u001b[0;32mtry\u001b[0m\u001b[0;34m:\u001b[0m\u001b[0;34m\u001b[0m\u001b[0m\n",
      "\u001b[0;32m/usr/local/lib/python3.5/dist-packages/PIL/ImageFont.py\u001b[0m in \u001b[0;36m__init__\u001b[0;34m(self, font, size, index, encoding, layout_engine)\u001b[0m\n\u001b[1;32m    192\u001b[0m                     \u001b[0;32mreturn\u001b[0m\u001b[0;34m\u001b[0m\u001b[0m\n\u001b[1;32m    193\u001b[0m             self.font = core.getfont(\n\u001b[0;32m--> 194\u001b[0;31m                 \u001b[0mfont\u001b[0m\u001b[0;34m,\u001b[0m \u001b[0msize\u001b[0m\u001b[0;34m,\u001b[0m \u001b[0mindex\u001b[0m\u001b[0;34m,\u001b[0m \u001b[0mencoding\u001b[0m\u001b[0;34m,\u001b[0m \u001b[0mlayout_engine\u001b[0m\u001b[0;34m=\u001b[0m\u001b[0mlayout_engine\u001b[0m\u001b[0;34m\u001b[0m\u001b[0m\n\u001b[0m\u001b[1;32m    195\u001b[0m             )\n\u001b[1;32m    196\u001b[0m         \u001b[0;32melse\u001b[0m\u001b[0;34m:\u001b[0m\u001b[0;34m\u001b[0m\u001b[0m\n",
      "\u001b[0;31mOSError\u001b[0m: cannot open resource"
     ]
    }
   ],
   "source": [
    "import matplotlib.pyplot as plt\n",
    "from wordcloud import WordCloud\n",
    "font_path = \"NanumGothicBold.ttf\"\n",
    "wordcloud = WordCloud(font_path=font_path, width=400,height = 400)\n",
    "news =\"\"\"\n",
    "스마트워치로 30초만에 혈압ㆍ심전도 측정...삼성, 식약처 허가 받아 하반기 출시\n",
    "기사입력 2020.05.24. 오후 12:20 기사원문 스크랩 본문듣기  설정\n",
    "좋아요 좋아요 평가하기8 댓글6\n",
    "요약봇beta\n",
    " \n",
    "글자 크기 변경하기\n",
    " 인쇄하기 \n",
    "보내기\n",
    "\n",
    "갤럭시 워치 액티브2의 심전도 측정 기능. 사진 삼성전자\n",
    "\n",
    "올해 하반기부터는 삼성전자 스마트워치로 혈압과 심전도를 측정할 수 있게 될 전망이다. 애플워치가 해외에서는 심전도 측정 기능을 제공하고 있지만 국내에서 스마트워치로 혈압과 심전도 측정 기능이 제공되는 건 이번이 처음이다. 이로써 스마트워치로 고혈압 환자나 심장 이상을 느끼는 부정맥 환자가 자가 진단은 할 수 있게 됐지만, 원격의료 금지 원칙에 따라 스마트워치로 측정한 데이터로 의사의 진료를 받는 것은 여전히 막혀 있다.\n",
    "\n",
    "식약처, 스마트워치 심전도 측정 허가\n",
    "삼성전자는 식품의약품안전처로부터 심전도 측정 애플리케이션에 대한 허가를 받았다고 24일 밝혔다. 지난 4월 세계 최초로 혈압 측정 앱에 대한 허가를 받은 데 이은 것이다. 이에 따라 ‘삼성 헬스 모니터’라는 애플리케이션 사용자는 스마트워치를 통해 심전도와 혈압을 모두 측정할 수 있게 됐다. 삼성전자 관계자는 “올해 3분기 안에 삼성 헬스 모니터 앱에 심전도 측정 기능을 탑재해 출시할 계획”이라고 말했다.\n",
    "\n",
    "해당 앱은 삼정전자의 스마트워치에 탑재된 센서 기술을 활용한다. 이 때문에 삼성이 향후 출시할 스마트워치는 물론 지난해 8월 출시된 갤럭시 워치 액티브2로도 혈압과 심전도 측정이 모두 가능해진다. 출시 당시부터 해당 기능은 탑재된 상태였지만 식약처의 허가가 없었기 때문에 비활성화 상태였다. 국내 허가를 계기로 삼성은 미국 식품의약국(FDA) 승인을 거쳐 해외에서도 해당 기능을 제공할 계획이다.\n",
    "\n",
    "스마트워치로 30초만에 심전도 측정\n",
    "사용자는 스마트워치를 착용한 반대쪽 손의 손가락 끝을 스마트워치 상단 버튼에 30초 정도 올려두면 심전도를 측정할 수 있다. 애플워치와 유사한 방식이다. 애플은 2018년 애플워치를 통해 출시한 심전도 기능을 미국에선 FDA의 승인을 받아 활용됐다. 하지만 국내에선 애플워치5의 심전도 기능이 아예 비활성화된 채 출시됐다.\n",
    "\n",
    "\n",
    "삼성전자의 갤럭시워치 액티브2(위)와 애플의 애플워치5. 미래의 헬스케어 시장을 선점하겠다는 판단에 거대 IT 업체들의 스마트워치 경쟁도 격화하고 있다. [사진 각 회사]\n",
    "\n",
    "심전도 측정은 심장의 전기 활동을 분석해 심방세동을 측정하고 분석해주는 기능이다. 심방세동은 부정맥 질환 중 하나로 심방이 무질서하게 매우 빠르고 미세하게 떨리면서 불규칙한 맥박을 형성하는 경우다. 환자 본인이 알지 못하는 무증상인 경우 많지만 혈전, 심부전, 뇌졸중 등 합병증 위험이 높은 질환이다. 이 때문에 애플은 애플워치의 심전도 기능을 통해 목숨을 구한 일화를 소개하며 대대적으로 홍보하고 있기도 하다.\n",
    "\n",
    "삼성, 세계 최초로 혈압ㆍ심전도 동시 측정\n",
    "삼성전자가 지난번 혈압 측정 앱을 세계 최로로 허가받은 것은 커다란 혁신으로 꼽힌다. 고혈압 환자들이 매번 커프 혈압계(팔뚝에 기기를 끼어 혈압을 재는 방식)를 착용하는 번거로움 없이 24시간 혈압을 측정할 수 있기 때문이다. 여기에 심전도 기능까지 더해진다면 스마트워치 헬스케어 시장에서 유리한 고지를 점할 수 있을 것으로 업계는 보고 있다.\n",
    "\n",
    "\n",
    "혈압 앱\n",
    "\n",
    "다만 당분간 실제 진료 현장에서 사용되기보다는 환자의 참고용 자가진단에만 이용될 전망이다. 스마트워치의 헬스케어 기능은 수집한 데이터를 원격으로 의료진에게 보내 전문 상담을 받아야 100% 활용할 수 있다. 미국이나 중국ㆍ일본 등에서는 이용자가 스마트워치뿐 아니라 다양한 개인 건강 데이터를 갖고 원격으로 진료받을 수 있다.\n",
    "\n",
    "스마트워치 데이터로 의사 진료는 못 받아\n",
    "하지만 의료 단체들의 반대에 부딪혀 국내에선 금지되고 있다. IT업계 관계자는 “코로나19를 계기로 비대면 진료에 대한 논의가 활발해진 점에 기대를 걸고 있다”고 말했다. 실제로 정부는 코로나19 감염 확산을 막기 위해 한시적으로 전화 상담ㆍ처방을 허용하고 있으며, 다음 달 초에 내놓을 하반기 경제정책방향에 비대면 의료 인프라 구축 방안을 포함시킬 것으로 알려졌다.\n",
    "\n",
    "\"\"\"\n",
    "wordcloud = wordcloud.generate(news)\n",
    "fig = plt.figure(figsize=(6,6))\n",
    "plt.imshow(wordcloud)\n",
    "plt.axis(\"off\")\n",
    "plt.show()\n",
    "fig.savefig(\"wordcloud.png\")"
   ]
  },
  {
   "cell_type": "code",
   "execution_count": null,
   "metadata": {},
   "outputs": [],
   "source": []
  }
 ],
 "metadata": {
  "kernelspec": {
   "display_name": "Python 3",
   "language": "python",
   "name": "python3"
  },
  "language_info": {
   "codemirror_mode": {
    "name": "ipython",
    "version": 3
   },
   "file_extension": ".py",
   "mimetype": "text/x-python",
   "name": "python",
   "nbconvert_exporter": "python",
   "pygments_lexer": "ipython3",
   "version": "3.5.2"
  }
 },
 "nbformat": 4,
 "nbformat_minor": 4
}
