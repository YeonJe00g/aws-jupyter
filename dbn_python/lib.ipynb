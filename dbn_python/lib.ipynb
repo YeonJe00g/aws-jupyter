{
 "cells": [
  {
   "cell_type": "code",
   "execution_count": 7,
   "metadata": {},
   "outputs": [
    {
     "data": {
      "text/plain": [
       "<bound method Car.show_info of <__main__.Car object at 0x7fb6482317f0>>"
      ]
     },
     "execution_count": 7,
     "metadata": {},
     "output_type": "execute_result"
    }
   ],
   "source": [
    "class Car:\n",
    "    #클래스의 생성자\n",
    "    def __init__(self,name,color):\n",
    "        self.name =name\n",
    "        self.color = color\n",
    "    #클래스의 메소드\n",
    "    def show_info(self):\n",
    "        print(\"이름\",self.name,\"\\색상:\",self.color)\n",
    "car1 = Car(\"소나타\", \"빨간색\")\n",
    "car1.show_info"
   ]
  },
  {
   "cell_type": "markdown",
   "metadata": {},
   "source": [
    "----------\n",
    "동빈나 35강부터 다시듣기"
   ]
  }
 ],
 "metadata": {
  "kernelspec": {
   "display_name": "Python 3",
   "language": "python",
   "name": "python3"
  },
  "language_info": {
   "codemirror_mode": {
    "name": "ipython",
    "version": 3
   },
   "file_extension": ".py",
   "mimetype": "text/x-python",
   "name": "python",
   "nbconvert_exporter": "python",
   "pygments_lexer": "ipython3",
   "version": "3.5.2"
  }
 },
 "nbformat": 4,
 "nbformat_minor": 4
}
