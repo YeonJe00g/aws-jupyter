{
 "cells": [
  {
   "cell_type": "code",
   "execution_count": 11,
   "metadata": {},
   "outputs": [
    {
     "name": "stdout",
     "output_type": "stream",
     "text": [
      "20\n"
     ]
    }
   ],
   "source": [
    "a=10\n",
    "def func(b):\n",
    "    c = a+b\n",
    "    return c\n",
    "print(func(10))"
   ]
  },
  {
   "cell_type": "code",
   "execution_count": 12,
   "metadata": {},
   "outputs": [
    {
     "name": "stdout",
     "output_type": "stream",
     "text": [
      "5\n"
     ]
    }
   ],
   "source": [
    "def minus(a,b):\n",
    "    return a-b;\n",
    "print(minus(10,5))"
   ]
  },
  {
   "cell_type": "code",
   "execution_count": 20,
   "metadata": {},
   "outputs": [
    {
     "name": "stdout",
     "output_type": "stream",
     "text": [
      "R\n",
      "HLOW\n"
     ]
    }
   ],
   "source": [
    "a = \"HELLO WORLD\"\n",
    "print(a[-3])\n",
    "print(a[0:7:2])\n",
    "#0-7까지 출력하지만 두칸씩 건너 뛰겠다\n"
   ]
  },
  {
   "cell_type": "code",
   "execution_count": 40,
   "metadata": {},
   "outputs": [
    {
     "name": "stdout",
     "output_type": "stream",
     "text": [
      "Hi WORLD! HI.\n",
      "3\n",
      "HELLO WORLD! HI.\n",
      "hello world! hi.\n",
      "['HELLO', 'WORLD!', 'HI.']\n",
      "0000000000000000000000000000000000HELLO WORLD! HI.\n",
      "9980\n"
     ]
    }
   ],
   "source": [
    "'''\n",
    "count, strip, lower, upper\n",
    "split, zfill, int()\n",
    "'''\n",
    "a = \"HELLO WORLD! HI.\"\n",
    "b = a.replace(\"HELLO\", \"Hi\") #문자열 변환\n",
    "c = a.count('L')\n",
    "print(b)\n",
    "print(c)\n",
    "a.find(\"WOR\")\n",
    "print(a.strip(\"WORLD\")) #특정한 단어 지우기 strip\n",
    "print(a.lower())\n",
    "print(a.split(\" \"))#배열로 반환을 한다.\n",
    "print(a.zfill(50))#50보다 작다면 앞을 다 0으로 채워준다.\n",
    "#금액을 표현할때 주로 많이 쓴다.\n",
    "x=\"9475\"\n",
    "y=int(x)\n",
    "print(y+505)"
   ]
  },
  {
   "cell_type": "code",
   "execution_count": 52,
   "metadata": {},
   "outputs": [
    {
     "name": "stdout",
     "output_type": "stream",
     "text": [
      "4892.3\n",
      "255\n",
      "a+b = 13\n",
      "a+b = 13\n"
     ]
    }
   ],
   "source": [
    "a=10\n",
    "b=25.3\n",
    "c=int(\"4857\")\n",
    "print(a+b+c)\n",
    "\n",
    "#16진수 사용하기\n",
    "a=0x0000000FF\n",
    "print(a)\n",
    "\n",
    "a=9\n",
    "b=4\n",
    "print(\"a+b =\",a+b)\n",
    "print(\"a-b =\",a-b)"
   ]
  },
  {
   "cell_type": "code",
   "execution_count": 57,
   "metadata": {},
   "outputs": [
    {
     "name": "stdout",
     "output_type": "stream",
     "text": [
      "Hello World Hi~\n",
      "False\n"
     ]
    }
   ],
   "source": [
    "a=\"Hello World\"\n",
    "b=\"Hi~\"\n",
    "print(a+ \" \"+b)\n",
    "print(a==b)"
   ]
  },
  {
   "cell_type": "code",
   "execution_count": 60,
   "metadata": {},
   "outputs": [
    {
     "name": "stdout",
     "output_type": "stream",
     "text": [
      "3 7\n",
      "x + y = 10\n"
     ]
    }
   ],
   "source": [
    "a = input().split(' ')\n",
    "x = int(a[0])\n",
    "y = int(a[1])\n",
    "print(\"x + y =\" ,x+y)"
   ]
  }
 ],
 "metadata": {
  "kernelspec": {
   "display_name": "Python 3",
   "language": "python",
   "name": "python3"
  },
  "language_info": {
   "codemirror_mode": {
    "name": "ipython",
    "version": 3
   },
   "file_extension": ".py",
   "mimetype": "text/x-python",
   "name": "python",
   "nbconvert_exporter": "python",
   "pygments_lexer": "ipython3",
   "version": "3.5.2"
  }
 },
 "nbformat": 4,
 "nbformat_minor": 4
}
