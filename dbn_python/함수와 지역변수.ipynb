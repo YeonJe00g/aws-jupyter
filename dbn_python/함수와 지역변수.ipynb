{
 "cells": [
  {
   "cell_type": "markdown",
   "metadata": {},
   "source": [
    "#### 함수: 특정한 입력을 받아서 처리를 한 이후에, 특정한 출력을 하는 모듈\n",
    "#### 함수를 이용하면 특정한 소스코드의 반복을 줄일 수 있다는 특징\n",
    "#### 가변 인자 : 함수의 매개변수가 가변적일 수 있을 때 사용\n",
    "#### 전역변수와 지역변수\n",
    "#### 전역변수 : 소스코드 전체 어디에서든지 사용 가능한 변수\n",
    "#### 지역변수 : 특정한 함수(블록)안에서만 사용할 수 있는 변수\n",
    "#### 파이썬의 함수는 반환 값이 여러개 일 수 있음\n"
   ]
  },
  {
   "cell_type": "code",
   "execution_count": 4,
   "metadata": {},
   "outputs": [
    {
     "name": "stdout",
     "output_type": "stream",
     "text": [
      "9\n",
      "(1, 2, 3)\n",
      "2\n",
      "5 [1, 2, 3]\n"
     ]
    }
   ],
   "source": [
    "def add(a,b):\n",
    "    return a+b\n",
    "print(add(4,5))\n",
    "\n",
    "def func(*data):\n",
    "    print(data)\n",
    "func(1,2,3)\n",
    "\n",
    "def add(a):\n",
    "    b=7\n",
    "    a+=5 #지역변수\n",
    "a=2 #전역변수\n",
    "add(a)\n",
    "print(a)\n",
    "\n",
    "def function():\n",
    "    a=5\n",
    "    b=[1,2,3]\n",
    "    return a,b\n",
    "a,b = function()\n",
    "print(a,b)"
   ]
  }
 ],
 "metadata": {
  "kernelspec": {
   "display_name": "Python 3",
   "language": "python",
   "name": "python3"
  },
  "language_info": {
   "codemirror_mode": {
    "name": "ipython",
    "version": 3
   },
   "file_extension": ".py",
   "mimetype": "text/x-python",
   "name": "python",
   "nbconvert_exporter": "python",
   "pygments_lexer": "ipython3",
   "version": "3.5.2"
  }
 },
 "nbformat": 4,
 "nbformat_minor": 4
}
