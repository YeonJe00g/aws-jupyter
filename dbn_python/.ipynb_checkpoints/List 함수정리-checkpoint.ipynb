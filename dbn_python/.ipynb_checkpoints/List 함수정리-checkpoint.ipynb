{
 "cells": [
  {
   "cell_type": "code",
   "execution_count": 7,
   "metadata": {},
   "outputs": [
    {
     "name": "stdout",
     "output_type": "stream",
     "text": [
      "[3.5, 4.3, 2.3, 3.8, 3.2, 4.5]\n",
      "인덱스 0 3.5\n",
      "인덱스 4 3.2\n",
      "평균점수 3.5999999999999996\n"
     ]
    }
   ],
   "source": [
    "#리스트 : 비슷한 성질을 가진 객체의 나열\n",
    "a = [3.5 , 4.3, 2.3, 3.8, 3.2, 4.5]\n",
    "print(a)\n",
    "print(\"인덱스 0\",a[0])\n",
    "print(\"인덱스 4\",a[4])\n",
    "sum = 0\n",
    "for i in a:\n",
    "    sum += i\n",
    "print(\"평균점수\", sum / len(a))"
   ]
  },
  {
   "cell_type": "code",
   "execution_count": 12,
   "metadata": {},
   "outputs": [
    {
     "name": "stdout",
     "output_type": "stream",
     "text": [
      "영어 평균 점수 57.7\n",
      "수학 평균 점수 65.4\n"
     ]
    }
   ],
   "source": [
    "a = [\n",
    "    [90,95,83,40,30,20,19,48,93,59],\n",
    "    [48,53,64,76,58,34,55,85,96,85]\n",
    "]\n",
    "sum =0;\n",
    "english = a[0]\n",
    "for i in english:\n",
    "    sum +=i\n",
    "print(\"영어 평균 점수\", sum/len(english))\n",
    "sum = 0;\n",
    "math = a[1]\n",
    "for i in math:\n",
    "    sum+=i\n",
    "print(\"수학 평균 점수\", sum / len(math))"
   ]
  },
  {
   "cell_type": "code",
   "execution_count": 28,
   "metadata": {},
   "outputs": [
    {
     "name": "stdout",
     "output_type": "stream",
     "text": [
      "3\n",
      "4\n",
      "[10, 20, 30, 40, 50, 10, 10, 25]\n",
      "[10, 20, 30, 40, 50, 10, 10, 25, 70, 50, 40]\n",
      "[10, 20, 30, 70, 40, 50, 10, 10, 25, 70, 50, 40]\n",
      "[20, 30, 70, 40, 50, 10, 10, 25, 70, 50, 40]\n",
      "[20, 30, 70, 50, 10, 10, 25, 70, 50, 40]\n",
      "[40, 50, 70, 25, 10, 10, 50, 70, 30, 20]\n"
     ]
    }
   ],
   "source": [
    "a=[10,20,30,40,50,10,10]\n",
    "b=[70,50,40]\n",
    "#count(원소):리스트 내 특정 원소가 몇 개 포함되어 있는지 반환\n",
    "#index(원소):리스트 내 특정 원소의 인덱스를 반환\n",
    "#append(원소):리스트의 뒤쪽에 새로운 원소를 삽입\n",
    "#sort():리스트를 오름차순으로 정렬\n",
    "#extend(리스트): 리스트의 뒤쪽에 다른 리스트를 삽입\n",
    "#insert(인덱스,원소):특정한 위치에 원소를 삽입\n",
    "#remove(원소): 리스트 내 특정 원소를 삭제\n",
    "#pop(인덱스):리스트 내 특정 인덱스의 원소를 삭제\n",
    "#reverse():리스트를 뒤집기\n",
    "print(a.count(10))\n",
    "print(a.index(50))\n",
    "a.append(25)\n",
    "print(a)\n",
    "a.extend(b)\n",
    "print(a)\n",
    "a.insert(3,70)\n",
    "print(a)\n",
    "a.remove(10)\n",
    "print(a)\n",
    "a.pop(3)\n",
    "print(a)\n",
    "a.reverse()\n",
    "print(a)"
   ]
  }
 ],
 "metadata": {
  "kernelspec": {
   "display_name": "Python 3",
   "language": "python",
   "name": "python3"
  },
  "language_info": {
   "codemirror_mode": {
    "name": "ipython",
    "version": 3
   },
   "file_extension": ".py",
   "mimetype": "text/x-python",
   "name": "python",
   "nbconvert_exporter": "python",
   "pygments_lexer": "ipython3",
   "version": "3.5.2"
  }
 },
 "nbformat": 4,
 "nbformat_minor": 4
}
