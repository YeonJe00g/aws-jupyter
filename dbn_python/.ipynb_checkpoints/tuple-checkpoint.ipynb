{
 "cells": [
  {
   "cell_type": "code",
   "execution_count": 10,
   "metadata": {},
   "outputs": [
    {
     "name": "stdout",
     "output_type": "stream",
     "text": [
      "1\n",
      "2\n",
      "3\n",
      "([1, 2, 3], [4, 5, 6])\n",
      "([1, 7, 3], [4, 5, 6])\n",
      "(1, 2, 3, 4, 5, 1, 2, 3, 4, 5, 1, 2, 3, 4, 5)\n"
     ]
    }
   ],
   "source": [
    "#튜플(Tuple): 리스트와 비슷한 자료형(변경 불가)\n",
    "#튜플의 원소를 변경할수 있지만 원소가 리스트라면 변경가능\n",
    "#인덱싱 슬라이싱 등의 문법도 그대로 사용이 가능\n",
    "\n",
    "tuple = (1,2,3)\n",
    "for i in tuple:\n",
    "    print(i)\n",
    "list1 = [1,2,3]\n",
    "list2 = [4,5,6]\n",
    "tuple=(list1,list2)\n",
    "print(tuple)\n",
    "tuple[0][1] = 7\n",
    "print(tuple)\n",
    "tuple = (1,2,3,4,5,6,7)\n",
    "print(tuple[0:5]*3)"
   ]
  },
  {
   "cell_type": "markdown",
   "metadata": {},
   "source": [
    "#### 시퀀스(Sequence):문자열,리스트,튜플 등의 인덱스를 가지는 자료형\n",
    "#### len(시퀀스 자료형): 시퀀스 자료형의 길이를 출력하는 함수\n",
    "#### 반복문 등에서 사용될 수 있음\n"
   ]
  },
  {
   "cell_type": "code",
   "execution_count": 17,
   "metadata": {},
   "outputs": [
    {
     "name": "stdout",
     "output_type": "stream",
     "text": [
      "Hello World\n",
      "['H', 'e', 'l', 'l', 'o']\n",
      "('H', 'e', 'l', 'l', 'o')\n",
      "H\n",
      "e\n",
      "l\n",
      "l\n",
      "o\n",
      "True\n",
      "3을 포함하지 않았습니다.\n"
     ]
    }
   ],
   "source": [
    "string = \"Hello World\"\n",
    "list = ['H','e','l','l','o']\n",
    "tuple = ('H','e','l','l','o')\n",
    "print(string)\n",
    "print(list)\n",
    "print(tuple)\n",
    "for i in list:\n",
    "    print(i)\n",
    "list = [1,2,4,5]\n",
    "print(4 in list)\n",
    "if 3 in list:\n",
    "    print(\"3을 포함하고 있습니다.\")\n",
    "else:\n",
    "    print(\"3을 포함하지 않았습니다.\")"
   ]
  }
 ],
 "metadata": {
  "kernelspec": {
   "display_name": "Python 3",
   "language": "python",
   "name": "python3"
  },
  "language_info": {
   "codemirror_mode": {
    "name": "ipython",
    "version": 3
   },
   "file_extension": ".py",
   "mimetype": "text/x-python",
   "name": "python",
   "nbconvert_exporter": "python",
   "pygments_lexer": "ipython3",
   "version": "3.5.2"
  }
 },
 "nbformat": 4,
 "nbformat_minor": 4
}
