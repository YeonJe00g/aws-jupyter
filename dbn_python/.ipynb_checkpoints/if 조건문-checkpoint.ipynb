{
 "cells": [
  {
   "cell_type": "code",
   "execution_count": 7,
   "metadata": {},
   "outputs": [
    {
     "name": "stdout",
     "output_type": "stream",
     "text": [
      "Not Bad\n",
      "Bad\n",
      "2가 리스트에 포함되어있습니다.\n"
     ]
    }
   ],
   "source": [
    "#첫 명령어는 들여쓰기 없이 시작해야 합니다.\n",
    "#조건문, 반복문 등의 문법을 사용할 때는 콜론(:)으로 명령어의 끝을 알립니다.\n",
    "#콜론(:)의 다음 줄 부터는 들여쓰기 간격이 모두 일정해야 합니다.\n",
    "\n",
    "score = 75\n",
    "if score >= 80:\n",
    "    print(\"Good\")\n",
    "    print(\"점수가 80점 넘었습니다~\")\n",
    "elif score >=70:\n",
    "    print(\"Not Bad\")\n",
    "else:\n",
    "    print(\"Bad\")\n",
    "    \n",
    "if score <90 and score >=80:\n",
    "    print(\"Good\")\n",
    "else:\n",
    "    print(\"Bad\")\n",
    "    \n",
    "list = [1,2,3]\n",
    "if 2 in list:\n",
    "    print(\"2가 리스트에 포함되어있습니다.\")"
   ]
  },
  {
   "cell_type": "code",
   "execution_count": 9,
   "metadata": {},
   "outputs": [
    {
     "name": "stdout",
     "output_type": "stream",
     "text": [
      "['False', 'None', 'True', 'and', 'as', 'assert', 'break', 'class', 'continue', 'def', 'del', 'elif', 'else', 'except', 'finally', 'for', 'from', 'global', 'if', 'import', 'in', 'is', 'lambda', 'nonlocal', 'not', 'or', 'pass', 'raise', 'return', 'try', 'while', 'with', 'yield']\n"
     ]
    }
   ],
   "source": [
    "import keyword\n",
    "print(keyword.kwlist)"
   ]
  },
  {
   "cell_type": "code",
   "execution_count": null,
   "metadata": {},
   "outputs": [
    {
     "name": "stdout",
     "output_type": "stream",
     "text": [
      "1\n",
      "2\n",
      "3\n",
      "4\n",
      "5\n",
      "6\n",
      "7\n",
      "8\n",
      "9\n",
      "45\n",
      "o개수는 2 입니다\n",
      "합계 15\n",
      "6\n"
     ]
    }
   ],
   "source": [
    "#숫자 범위 표현 : range(시작,끝)\n",
    "#continue: continue를 만났으 때 더 이상 명령어를 실행하지 않고 다음 반복을 진행\n",
    "\n",
    "sum = 0\n",
    "for i in range(1,10):\n",
    "    print(i)\n",
    "    sum=sum+i\n",
    "print(sum)\n",
    "\n",
    "count =0\n",
    "for i in \"Hello World\":\n",
    "    if i =='o':\n",
    "        count = count +1\n",
    "print(\"o개수는\",count,\"입니다\")\n",
    "\n",
    "sum =0;\n",
    "list = [1,2,3,4,5]\n",
    "for i in list:\n",
    "    sum +=i\n",
    "print(\"합계\",sum)\n",
    "\n",
    "sum=0\n",
    "for i in list:\n",
    "    if(i%2==1):\n",
    "        continue\n",
    "    sum +=i\n",
    "print(sum)\n",
    "\n",
    "i=0\n",
    "sum=0\n",
    "while i<=5:\n",
    "    if i%2==1:\n",
    "        continue\n",
    "    sum +=i\n",
    "print(\"합계 \",sum)"
   ]
  }
 ],
 "metadata": {
  "kernelspec": {
   "display_name": "Python 3",
   "language": "python",
   "name": "python3"
  },
  "language_info": {
   "codemirror_mode": {
    "name": "ipython",
    "version": 3
   },
   "file_extension": ".py",
   "mimetype": "text/x-python",
   "name": "python",
   "nbconvert_exporter": "python",
   "pygments_lexer": "ipython3",
   "version": "3.5.2"
  }
 },
 "nbformat": 4,
 "nbformat_minor": 4
}
